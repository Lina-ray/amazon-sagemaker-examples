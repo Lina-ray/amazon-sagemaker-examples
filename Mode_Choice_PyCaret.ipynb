{
  "cells": [
    {
      "cell_type": "markdown",
      "metadata": {
        "id": "view-in-github",
        "colab_type": "text"
      },
      "source": [
        "<a href=\"https://colab.research.google.com/github/Lina-ray/amazon-sagemaker-examples/blob/main/Mode_Choice_PyCaret.ipynb\" target=\"_parent\"><img src=\"https://colab.research.google.com/assets/colab-badge.svg\" alt=\"Open In Colab\"/></a>"
      ]
    },
    {
      "cell_type": "code",
      "execution_count": null,
      "metadata": {
        "colab": {
          "base_uri": "https://localhost:8080/"
        },
        "id": "MDvSuU8xZZkN",
        "outputId": "33a7d84f-9742-4050-9ed2-ffb70ff3d8ad"
      },
      "outputs": [
        {
          "name": "stdout",
          "output_type": "stream",
          "text": [
            "3.3.2\n"
          ]
        }
      ],
      "source": [
        "import pycaret\n",
        "print(pycaret.__version__)"
      ]
    },
    {
      "cell_type": "code",
      "execution_count": null,
      "metadata": {
        "colab": {
          "base_uri": "https://localhost:8080/",
          "height": 1000,
          "referenced_widgets": [
            "fdce4389553740e9a31a5c4da13d8e68",
            "cf49db342d354170852f882cbf04ded1",
            "1acd6a569ee344f3b250110a00405fa1",
            "83064bd5edd5461e94b0b50ab198187c",
            "ce8290ac83f44457ad87ee56e11b4d6c",
            "8a04867a91fc43708ade9c99d022dbe5",
            "2efeada7f8b84b4e98c86c6cbf8df746",
            "312ccd6782314c5f90a2c1d032a372d1",
            "91a9919ca2de48c18ff44ddbe01046bc",
            "2a38f9044e7845108630b18b4c756af8",
            "6e9c261528fa46f8a09cbd6ca0dfa4dd"
          ]
        },
        "id": "2G6itjoCZfMm",
        "outputId": "2ebc33bb-8182-4960-a125-af67c832c9d8"
      },
      "outputs": [
        {
          "name": "stdout",
          "output_type": "stream",
          "text": [
            "[LightGBM] [Warning] There are no meaningful features which satisfy the provided configuration. Decreasing Dataset parameters min_data_in_bin or min_data_in_leaf and re-constructing Dataset might resolve this warning.\n",
            "[LightGBM] [Info] Number of positive: 1, number of negative: 1\n",
            "[LightGBM] [Info] This is the GPU trainer!!\n",
            "[LightGBM] [Info] Total Bins 0\n",
            "[LightGBM] [Info] Number of data points in the train set: 2, number of used features: 0\n",
            "[LightGBM] [Warning] There are no meaningful features which satisfy the provided configuration. Decreasing Dataset parameters min_data_in_bin or min_data_in_leaf and re-constructing Dataset might resolve this warning.\n",
            "[LightGBM] [Warning] Using sparse features with CUDA is currently not supported.\n",
            "[LightGBM] [Info] Number of positive: 1, number of negative: 1\n",
            "[LightGBM] [Warning] There are no meaningful features which satisfy the provided configuration. Decreasing Dataset parameters min_data_in_bin or min_data_in_leaf and re-constructing Dataset might resolve this warning.\n",
            "[LightGBM] [Info] Number of positive: 1, number of negative: 1\n",
            "[LightGBM] [Info] This is the GPU trainer!!\n",
            "[LightGBM] [Info] Total Bins 0\n",
            "[LightGBM] [Info] Number of data points in the train set: 2, number of used features: 0\n",
            "[LightGBM] [Warning] There are no meaningful features which satisfy the provided configuration. Decreasing Dataset parameters min_data_in_bin or min_data_in_leaf and re-constructing Dataset might resolve this warning.\n",
            "[LightGBM] [Warning] Using sparse features with CUDA is currently not supported.\n",
            "[LightGBM] [Info] Number of positive: 1, number of negative: 1\n",
            "[LightGBM] [Warning] There are no meaningful features which satisfy the provided configuration. Decreasing Dataset parameters min_data_in_bin or min_data_in_leaf and re-constructing Dataset might resolve this warning.\n",
            "[LightGBM] [Info] Number of positive: 1, number of negative: 1\n",
            "[LightGBM] [Info] This is the GPU trainer!!\n",
            "[LightGBM] [Info] Total Bins 0\n",
            "[LightGBM] [Info] Number of data points in the train set: 2, number of used features: 0\n",
            "[LightGBM] [Warning] There are no meaningful features which satisfy the provided configuration. Decreasing Dataset parameters min_data_in_bin or min_data_in_leaf and re-constructing Dataset might resolve this warning.\n",
            "[LightGBM] [Warning] Using sparse features with CUDA is currently not supported.\n",
            "[LightGBM] [Info] Number of positive: 1, number of negative: 1\n",
            "[LightGBM] [Warning] There are no meaningful features which satisfy the provided configuration. Decreasing Dataset parameters min_data_in_bin or min_data_in_leaf and re-constructing Dataset might resolve this warning.\n",
            "[LightGBM] [Info] Number of positive: 1, number of negative: 1\n",
            "[LightGBM] [Info] This is the GPU trainer!!\n",
            "[LightGBM] [Info] Total Bins 0\n",
            "[LightGBM] [Info] Number of data points in the train set: 2, number of used features: 0\n",
            "[LightGBM] [Warning] There are no meaningful features which satisfy the provided configuration. Decreasing Dataset parameters min_data_in_bin or min_data_in_leaf and re-constructing Dataset might resolve this warning.\n",
            "[LightGBM] [Warning] Using sparse features with CUDA is currently not supported.\n",
            "[LightGBM] [Info] Number of positive: 1, number of negative: 1\n",
            "[LightGBM] [Warning] There are no meaningful features which satisfy the provided configuration. Decreasing Dataset parameters min_data_in_bin or min_data_in_leaf and re-constructing Dataset might resolve this warning.\n",
            "[LightGBM] [Info] Number of positive: 1, number of negative: 1\n",
            "[LightGBM] [Info] This is the GPU trainer!!\n",
            "[LightGBM] [Info] Total Bins 0\n",
            "[LightGBM] [Info] Number of data points in the train set: 2, number of used features: 0\n",
            "[LightGBM] [Warning] There are no meaningful features which satisfy the provided configuration. Decreasing Dataset parameters min_data_in_bin or min_data_in_leaf and re-constructing Dataset might resolve this warning.\n",
            "[LightGBM] [Warning] Using sparse features with CUDA is currently not supported.\n",
            "[LightGBM] [Info] Number of positive: 1, number of negative: 1\n",
            "[LightGBM] [Warning] There are no meaningful features which satisfy the provided configuration. Decreasing Dataset parameters min_data_in_bin or min_data_in_leaf and re-constructing Dataset might resolve this warning.\n",
            "[LightGBM] [Info] Number of positive: 1, number of negative: 1\n",
            "[LightGBM] [Info] This is the GPU trainer!!\n",
            "[LightGBM] [Info] Total Bins 0\n",
            "[LightGBM] [Info] Number of data points in the train set: 2, number of used features: 0\n",
            "[LightGBM] [Warning] There are no meaningful features which satisfy the provided configuration. Decreasing Dataset parameters min_data_in_bin or min_data_in_leaf and re-constructing Dataset might resolve this warning.\n",
            "[LightGBM] [Warning] Using sparse features with CUDA is currently not supported.\n",
            "[LightGBM] [Info] Number of positive: 1, number of negative: 1\n"
          ]
        },
        {
          "data": {
            "text/html": [
              "<style type=\"text/css\">\n",
              "#T_11c8b_row9_col1, #T_11c8b_row13_col1, #T_11c8b_row15_col1, #T_11c8b_row20_col1 {\n",
              "  background-color: lightgreen;\n",
              "}\n",
              "</style>\n",
              "<table id=\"T_11c8b\" class=\"dataframe\">\n",
              "  <thead>\n",
              "    <tr>\n",
              "      <th class=\"blank level0\" >&nbsp;</th>\n",
              "      <th id=\"T_11c8b_level0_col0\" class=\"col_heading level0 col0\" >Description</th>\n",
              "      <th id=\"T_11c8b_level0_col1\" class=\"col_heading level0 col1\" >Value</th>\n",
              "    </tr>\n",
              "  </thead>\n",
              "  <tbody>\n",
              "    <tr>\n",
              "      <th id=\"T_11c8b_level0_row0\" class=\"row_heading level0 row0\" >0</th>\n",
              "      <td id=\"T_11c8b_row0_col0\" class=\"data row0 col0\" >Session id</td>\n",
              "      <td id=\"T_11c8b_row0_col1\" class=\"data row0 col1\" >123</td>\n",
              "    </tr>\n",
              "    <tr>\n",
              "      <th id=\"T_11c8b_level0_row1\" class=\"row_heading level0 row1\" >1</th>\n",
              "      <td id=\"T_11c8b_row1_col0\" class=\"data row1 col0\" >Target</td>\n",
              "      <td id=\"T_11c8b_row1_col1\" class=\"data row1 col1\" >travel_mode</td>\n",
              "    </tr>\n",
              "    <tr>\n",
              "      <th id=\"T_11c8b_level0_row2\" class=\"row_heading level0 row2\" >2</th>\n",
              "      <td id=\"T_11c8b_row2_col0\" class=\"data row2 col0\" >Target type</td>\n",
              "      <td id=\"T_11c8b_row2_col1\" class=\"data row2 col1\" >Multiclass</td>\n",
              "    </tr>\n",
              "    <tr>\n",
              "      <th id=\"T_11c8b_level0_row3\" class=\"row_heading level0 row3\" >3</th>\n",
              "      <td id=\"T_11c8b_row3_col0\" class=\"data row3 col0\" >Target mapping</td>\n",
              "      <td id=\"T_11c8b_row3_col1\" class=\"data row3 col1\" >cycle: 0, drive: 1, pt: 2, walk: 3</td>\n",
              "    </tr>\n",
              "    <tr>\n",
              "      <th id=\"T_11c8b_level0_row4\" class=\"row_heading level0 row4\" >4</th>\n",
              "      <td id=\"T_11c8b_row4_col0\" class=\"data row4 col0\" >Original data shape</td>\n",
              "      <td id=\"T_11c8b_row4_col1\" class=\"data row4 col1\" >(81086, 13)</td>\n",
              "    </tr>\n",
              "    <tr>\n",
              "      <th id=\"T_11c8b_level0_row5\" class=\"row_heading level0 row5\" >5</th>\n",
              "      <td id=\"T_11c8b_row5_col0\" class=\"data row5 col0\" >Transformed data shape</td>\n",
              "      <td id=\"T_11c8b_row5_col1\" class=\"data row5 col1\" >(81086, 10)</td>\n",
              "    </tr>\n",
              "    <tr>\n",
              "      <th id=\"T_11c8b_level0_row6\" class=\"row_heading level0 row6\" >6</th>\n",
              "      <td id=\"T_11c8b_row6_col0\" class=\"data row6 col0\" >Transformed train set shape</td>\n",
              "      <td id=\"T_11c8b_row6_col1\" class=\"data row6 col1\" >(56760, 10)</td>\n",
              "    </tr>\n",
              "    <tr>\n",
              "      <th id=\"T_11c8b_level0_row7\" class=\"row_heading level0 row7\" >7</th>\n",
              "      <td id=\"T_11c8b_row7_col0\" class=\"data row7 col0\" >Transformed test set shape</td>\n",
              "      <td id=\"T_11c8b_row7_col1\" class=\"data row7 col1\" >(24326, 10)</td>\n",
              "    </tr>\n",
              "    <tr>\n",
              "      <th id=\"T_11c8b_level0_row8\" class=\"row_heading level0 row8\" >8</th>\n",
              "      <td id=\"T_11c8b_row8_col0\" class=\"data row8 col0\" >Numeric features</td>\n",
              "      <td id=\"T_11c8b_row8_col1\" class=\"data row8 col1\" >12</td>\n",
              "    </tr>\n",
              "    <tr>\n",
              "      <th id=\"T_11c8b_level0_row9\" class=\"row_heading level0 row9\" >9</th>\n",
              "      <td id=\"T_11c8b_row9_col0\" class=\"data row9 col0\" >Preprocess</td>\n",
              "      <td id=\"T_11c8b_row9_col1\" class=\"data row9 col1\" >True</td>\n",
              "    </tr>\n",
              "    <tr>\n",
              "      <th id=\"T_11c8b_level0_row10\" class=\"row_heading level0 row10\" >10</th>\n",
              "      <td id=\"T_11c8b_row10_col0\" class=\"data row10 col0\" >Imputation type</td>\n",
              "      <td id=\"T_11c8b_row10_col1\" class=\"data row10 col1\" >simple</td>\n",
              "    </tr>\n",
              "    <tr>\n",
              "      <th id=\"T_11c8b_level0_row11\" class=\"row_heading level0 row11\" >11</th>\n",
              "      <td id=\"T_11c8b_row11_col0\" class=\"data row11 col0\" >Numeric imputation</td>\n",
              "      <td id=\"T_11c8b_row11_col1\" class=\"data row11 col1\" >mean</td>\n",
              "    </tr>\n",
              "    <tr>\n",
              "      <th id=\"T_11c8b_level0_row12\" class=\"row_heading level0 row12\" >12</th>\n",
              "      <td id=\"T_11c8b_row12_col0\" class=\"data row12 col0\" >Categorical imputation</td>\n",
              "      <td id=\"T_11c8b_row12_col1\" class=\"data row12 col1\" >mode</td>\n",
              "    </tr>\n",
              "    <tr>\n",
              "      <th id=\"T_11c8b_level0_row13\" class=\"row_heading level0 row13\" >13</th>\n",
              "      <td id=\"T_11c8b_row13_col0\" class=\"data row13 col0\" >Remove multicollinearity</td>\n",
              "      <td id=\"T_11c8b_row13_col1\" class=\"data row13 col1\" >True</td>\n",
              "    </tr>\n",
              "    <tr>\n",
              "      <th id=\"T_11c8b_level0_row14\" class=\"row_heading level0 row14\" >14</th>\n",
              "      <td id=\"T_11c8b_row14_col0\" class=\"data row14 col0\" >Multicollinearity threshold</td>\n",
              "      <td id=\"T_11c8b_row14_col1\" class=\"data row14 col1\" >0.900000</td>\n",
              "    </tr>\n",
              "    <tr>\n",
              "      <th id=\"T_11c8b_level0_row15\" class=\"row_heading level0 row15\" >15</th>\n",
              "      <td id=\"T_11c8b_row15_col0\" class=\"data row15 col0\" >Normalize</td>\n",
              "      <td id=\"T_11c8b_row15_col1\" class=\"data row15 col1\" >True</td>\n",
              "    </tr>\n",
              "    <tr>\n",
              "      <th id=\"T_11c8b_level0_row16\" class=\"row_heading level0 row16\" >16</th>\n",
              "      <td id=\"T_11c8b_row16_col0\" class=\"data row16 col0\" >Normalize method</td>\n",
              "      <td id=\"T_11c8b_row16_col1\" class=\"data row16 col1\" >zscore</td>\n",
              "    </tr>\n",
              "    <tr>\n",
              "      <th id=\"T_11c8b_level0_row17\" class=\"row_heading level0 row17\" >17</th>\n",
              "      <td id=\"T_11c8b_row17_col0\" class=\"data row17 col0\" >Fold Generator</td>\n",
              "      <td id=\"T_11c8b_row17_col1\" class=\"data row17 col1\" >StratifiedKFold</td>\n",
              "    </tr>\n",
              "    <tr>\n",
              "      <th id=\"T_11c8b_level0_row18\" class=\"row_heading level0 row18\" >18</th>\n",
              "      <td id=\"T_11c8b_row18_col0\" class=\"data row18 col0\" >Fold Number</td>\n",
              "      <td id=\"T_11c8b_row18_col1\" class=\"data row18 col1\" >10</td>\n",
              "    </tr>\n",
              "    <tr>\n",
              "      <th id=\"T_11c8b_level0_row19\" class=\"row_heading level0 row19\" >19</th>\n",
              "      <td id=\"T_11c8b_row19_col0\" class=\"data row19 col0\" >CPU Jobs</td>\n",
              "      <td id=\"T_11c8b_row19_col1\" class=\"data row19 col1\" >-1</td>\n",
              "    </tr>\n",
              "    <tr>\n",
              "      <th id=\"T_11c8b_level0_row20\" class=\"row_heading level0 row20\" >20</th>\n",
              "      <td id=\"T_11c8b_row20_col0\" class=\"data row20 col0\" >Use GPU</td>\n",
              "      <td id=\"T_11c8b_row20_col1\" class=\"data row20 col1\" >True</td>\n",
              "    </tr>\n",
              "    <tr>\n",
              "      <th id=\"T_11c8b_level0_row21\" class=\"row_heading level0 row21\" >21</th>\n",
              "      <td id=\"T_11c8b_row21_col0\" class=\"data row21 col0\" >Log Experiment</td>\n",
              "      <td id=\"T_11c8b_row21_col1\" class=\"data row21 col1\" >False</td>\n",
              "    </tr>\n",
              "    <tr>\n",
              "      <th id=\"T_11c8b_level0_row22\" class=\"row_heading level0 row22\" >22</th>\n",
              "      <td id=\"T_11c8b_row22_col0\" class=\"data row22 col0\" >Experiment Name</td>\n",
              "      <td id=\"T_11c8b_row22_col1\" class=\"data row22 col1\" >clf-default-name</td>\n",
              "    </tr>\n",
              "    <tr>\n",
              "      <th id=\"T_11c8b_level0_row23\" class=\"row_heading level0 row23\" >23</th>\n",
              "      <td id=\"T_11c8b_row23_col0\" class=\"data row23 col0\" >USI</td>\n",
              "      <td id=\"T_11c8b_row23_col1\" class=\"data row23 col1\" >4c8f</td>\n",
              "    </tr>\n",
              "  </tbody>\n",
              "</table>\n"
            ],
            "text/plain": [
              "<pandas.io.formats.style.Styler at 0x7fba5da8ee60>"
            ]
          },
          "metadata": {},
          "output_type": "display_data"
        },
        {
          "name": "stdout",
          "output_type": "stream",
          "text": [
            "[LightGBM] [Warning] There are no meaningful features which satisfy the provided configuration. Decreasing Dataset parameters min_data_in_bin or min_data_in_leaf and re-constructing Dataset might resolve this warning.\n",
            "[LightGBM] [Info] Number of positive: 1, number of negative: 1\n",
            "[LightGBM] [Info] This is the GPU trainer!!\n",
            "[LightGBM] [Info] Total Bins 0\n",
            "[LightGBM] [Info] Number of data points in the train set: 2, number of used features: 0\n",
            "[LightGBM] [Warning] There are no meaningful features which satisfy the provided configuration. Decreasing Dataset parameters min_data_in_bin or min_data_in_leaf and re-constructing Dataset might resolve this warning.\n",
            "[LightGBM] [Warning] Using sparse features with CUDA is currently not supported.\n",
            "[LightGBM] [Info] Number of positive: 1, number of negative: 1\n",
            "[LightGBM] [Warning] There are no meaningful features which satisfy the provided configuration. Decreasing Dataset parameters min_data_in_bin or min_data_in_leaf and re-constructing Dataset might resolve this warning.\n",
            "[LightGBM] [Info] Number of positive: 1, number of negative: 1\n",
            "[LightGBM] [Info] This is the GPU trainer!!\n",
            "[LightGBM] [Info] Total Bins 0\n",
            "[LightGBM] [Info] Number of data points in the train set: 2, number of used features: 0\n",
            "[LightGBM] [Warning] There are no meaningful features which satisfy the provided configuration. Decreasing Dataset parameters min_data_in_bin or min_data_in_leaf and re-constructing Dataset might resolve this warning.\n",
            "[LightGBM] [Warning] Using sparse features with CUDA is currently not supported.\n",
            "[LightGBM] [Info] Number of positive: 1, number of negative: 1\n"
          ]
        },
        {
          "data": {
            "text/html": [],
            "text/plain": [
              "<IPython.core.display.HTML object>"
            ]
          },
          "metadata": {},
          "output_type": "display_data"
        },
        {
          "data": {
            "text/html": [
              "<style type=\"text/css\">\n",
              "#T_42f8f th {\n",
              "  text-align: left;\n",
              "}\n",
              "#T_42f8f_row0_col0, #T_42f8f_row1_col0, #T_42f8f_row1_col1, #T_42f8f_row1_col2, #T_42f8f_row1_col3, #T_42f8f_row1_col4, #T_42f8f_row1_col5, #T_42f8f_row1_col6, #T_42f8f_row1_col7, #T_42f8f_row2_col0, #T_42f8f_row2_col1, #T_42f8f_row2_col2, #T_42f8f_row2_col3, #T_42f8f_row2_col4, #T_42f8f_row2_col5, #T_42f8f_row2_col6, #T_42f8f_row2_col7, #T_42f8f_row3_col0, #T_42f8f_row3_col1, #T_42f8f_row3_col2, #T_42f8f_row3_col3, #T_42f8f_row3_col4, #T_42f8f_row3_col5, #T_42f8f_row3_col6, #T_42f8f_row3_col7, #T_42f8f_row4_col0, #T_42f8f_row4_col1, #T_42f8f_row4_col2, #T_42f8f_row4_col3, #T_42f8f_row4_col4, #T_42f8f_row4_col5, #T_42f8f_row4_col6, #T_42f8f_row4_col7, #T_42f8f_row5_col0, #T_42f8f_row5_col1, #T_42f8f_row5_col2, #T_42f8f_row5_col3, #T_42f8f_row5_col4, #T_42f8f_row5_col5, #T_42f8f_row5_col6, #T_42f8f_row5_col7, #T_42f8f_row6_col0, #T_42f8f_row6_col1, #T_42f8f_row6_col2, #T_42f8f_row6_col3, #T_42f8f_row6_col4, #T_42f8f_row6_col5, #T_42f8f_row6_col6, #T_42f8f_row6_col7, #T_42f8f_row7_col0, #T_42f8f_row7_col1, #T_42f8f_row7_col2, #T_42f8f_row7_col3, #T_42f8f_row7_col4, #T_42f8f_row7_col5, #T_42f8f_row7_col6, #T_42f8f_row7_col7, #T_42f8f_row8_col0, #T_42f8f_row8_col1, #T_42f8f_row8_col2, #T_42f8f_row8_col3, #T_42f8f_row8_col4, #T_42f8f_row8_col5, #T_42f8f_row8_col6, #T_42f8f_row8_col7, #T_42f8f_row9_col0, #T_42f8f_row9_col1, #T_42f8f_row9_col2, #T_42f8f_row9_col3, #T_42f8f_row9_col4, #T_42f8f_row9_col5, #T_42f8f_row9_col6, #T_42f8f_row9_col7, #T_42f8f_row10_col0, #T_42f8f_row10_col1, #T_42f8f_row10_col2, #T_42f8f_row10_col3, #T_42f8f_row10_col4, #T_42f8f_row10_col5, #T_42f8f_row10_col6, #T_42f8f_row10_col7, #T_42f8f_row11_col0, #T_42f8f_row11_col1, #T_42f8f_row11_col2, #T_42f8f_row11_col3, #T_42f8f_row11_col4, #T_42f8f_row11_col5, #T_42f8f_row11_col6, #T_42f8f_row11_col7, #T_42f8f_row12_col0, #T_42f8f_row12_col1, #T_42f8f_row12_col2, #T_42f8f_row12_col3, #T_42f8f_row12_col4, #T_42f8f_row12_col5, #T_42f8f_row12_col6, #T_42f8f_row12_col7, #T_42f8f_row13_col0, #T_42f8f_row13_col1, #T_42f8f_row13_col2, #T_42f8f_row13_col3, #T_42f8f_row13_col4, #T_42f8f_row13_col5, #T_42f8f_row13_col6, #T_42f8f_row13_col7, #T_42f8f_row14_col0, #T_42f8f_row14_col1, #T_42f8f_row14_col2, #T_42f8f_row14_col3, #T_42f8f_row14_col4, #T_42f8f_row14_col5, #T_42f8f_row14_col6, #T_42f8f_row14_col7 {\n",
              "  text-align: left;\n",
              "}\n",
              "#T_42f8f_row0_col1, #T_42f8f_row0_col2, #T_42f8f_row0_col3, #T_42f8f_row0_col4, #T_42f8f_row0_col5, #T_42f8f_row0_col6, #T_42f8f_row0_col7 {\n",
              "  text-align: left;\n",
              "  background-color: yellow;\n",
              "}\n",
              "#T_42f8f_row0_col8, #T_42f8f_row1_col8, #T_42f8f_row2_col8, #T_42f8f_row3_col8, #T_42f8f_row4_col8, #T_42f8f_row5_col8, #T_42f8f_row6_col8, #T_42f8f_row7_col8, #T_42f8f_row8_col8, #T_42f8f_row9_col8, #T_42f8f_row10_col8, #T_42f8f_row11_col8, #T_42f8f_row12_col8, #T_42f8f_row13_col8 {\n",
              "  text-align: left;\n",
              "  background-color: lightgrey;\n",
              "}\n",
              "#T_42f8f_row14_col8 {\n",
              "  text-align: left;\n",
              "  background-color: yellow;\n",
              "  background-color: lightgrey;\n",
              "}\n",
              "</style>\n",
              "<table id=\"T_42f8f\" class=\"dataframe\">\n",
              "  <thead>\n",
              "    <tr>\n",
              "      <th class=\"blank level0\" >&nbsp;</th>\n",
              "      <th id=\"T_42f8f_level0_col0\" class=\"col_heading level0 col0\" >Model</th>\n",
              "      <th id=\"T_42f8f_level0_col1\" class=\"col_heading level0 col1\" >Accuracy</th>\n",
              "      <th id=\"T_42f8f_level0_col2\" class=\"col_heading level0 col2\" >AUC</th>\n",
              "      <th id=\"T_42f8f_level0_col3\" class=\"col_heading level0 col3\" >Recall</th>\n",
              "      <th id=\"T_42f8f_level0_col4\" class=\"col_heading level0 col4\" >Prec.</th>\n",
              "      <th id=\"T_42f8f_level0_col5\" class=\"col_heading level0 col5\" >F1</th>\n",
              "      <th id=\"T_42f8f_level0_col6\" class=\"col_heading level0 col6\" >Kappa</th>\n",
              "      <th id=\"T_42f8f_level0_col7\" class=\"col_heading level0 col7\" >MCC</th>\n",
              "      <th id=\"T_42f8f_level0_col8\" class=\"col_heading level0 col8\" >TT (Sec)</th>\n",
              "    </tr>\n",
              "  </thead>\n",
              "  <tbody>\n",
              "    <tr>\n",
              "      <th id=\"T_42f8f_level0_row0\" class=\"row_heading level0 row0\" >rf</th>\n",
              "      <td id=\"T_42f8f_row0_col0\" class=\"data row0 col0\" >Random Forest Classifier</td>\n",
              "      <td id=\"T_42f8f_row0_col1\" class=\"data row0 col1\" >0.7545</td>\n",
              "      <td id=\"T_42f8f_row0_col2\" class=\"data row0 col2\" >0.8986</td>\n",
              "      <td id=\"T_42f8f_row0_col3\" class=\"data row0 col3\" >0.7545</td>\n",
              "      <td id=\"T_42f8f_row0_col4\" class=\"data row0 col4\" >0.7516</td>\n",
              "      <td id=\"T_42f8f_row0_col5\" class=\"data row0 col5\" >0.7428</td>\n",
              "      <td id=\"T_42f8f_row0_col6\" class=\"data row0 col6\" >0.6123</td>\n",
              "      <td id=\"T_42f8f_row0_col7\" class=\"data row0 col7\" >0.6139</td>\n",
              "      <td id=\"T_42f8f_row0_col8\" class=\"data row0 col8\" >11.9290</td>\n",
              "    </tr>\n",
              "    <tr>\n",
              "      <th id=\"T_42f8f_level0_row1\" class=\"row_heading level0 row1\" >et</th>\n",
              "      <td id=\"T_42f8f_row1_col0\" class=\"data row1 col0\" >Extra Trees Classifier</td>\n",
              "      <td id=\"T_42f8f_row1_col1\" class=\"data row1 col1\" >0.7487</td>\n",
              "      <td id=\"T_42f8f_row1_col2\" class=\"data row1 col2\" >0.8962</td>\n",
              "      <td id=\"T_42f8f_row1_col3\" class=\"data row1 col3\" >0.7487</td>\n",
              "      <td id=\"T_42f8f_row1_col4\" class=\"data row1 col4\" >0.7405</td>\n",
              "      <td id=\"T_42f8f_row1_col5\" class=\"data row1 col5\" >0.7378</td>\n",
              "      <td id=\"T_42f8f_row1_col6\" class=\"data row1 col6\" >0.6031</td>\n",
              "      <td id=\"T_42f8f_row1_col7\" class=\"data row1 col7\" >0.6049</td>\n",
              "      <td id=\"T_42f8f_row1_col8\" class=\"data row1 col8\" >6.3310</td>\n",
              "    </tr>\n",
              "    <tr>\n",
              "      <th id=\"T_42f8f_level0_row2\" class=\"row_heading level0 row2\" >xgboost</th>\n",
              "      <td id=\"T_42f8f_row2_col0\" class=\"data row2 col0\" >Extreme Gradient Boosting</td>\n",
              "      <td id=\"T_42f8f_row2_col1\" class=\"data row2 col1\" >0.7431</td>\n",
              "      <td id=\"T_42f8f_row2_col2\" class=\"data row2 col2\" >0.8932</td>\n",
              "      <td id=\"T_42f8f_row2_col3\" class=\"data row2 col3\" >0.7431</td>\n",
              "      <td id=\"T_42f8f_row2_col4\" class=\"data row2 col4\" >0.7294</td>\n",
              "      <td id=\"T_42f8f_row2_col5\" class=\"data row2 col5\" >0.7305</td>\n",
              "      <td id=\"T_42f8f_row2_col6\" class=\"data row2 col6\" >0.5937</td>\n",
              "      <td id=\"T_42f8f_row2_col7\" class=\"data row2 col7\" >0.5954</td>\n",
              "      <td id=\"T_42f8f_row2_col8\" class=\"data row2 col8\" >3.0620</td>\n",
              "    </tr>\n",
              "    <tr>\n",
              "      <th id=\"T_42f8f_level0_row3\" class=\"row_heading level0 row3\" >lightgbm</th>\n",
              "      <td id=\"T_42f8f_row3_col0\" class=\"data row3 col0\" >Light Gradient Boosting Machine</td>\n",
              "      <td id=\"T_42f8f_row3_col1\" class=\"data row3 col1\" >0.7388</td>\n",
              "      <td id=\"T_42f8f_row3_col2\" class=\"data row3 col2\" >0.8916</td>\n",
              "      <td id=\"T_42f8f_row3_col3\" class=\"data row3 col3\" >0.7388</td>\n",
              "      <td id=\"T_42f8f_row3_col4\" class=\"data row3 col4\" >0.7255</td>\n",
              "      <td id=\"T_42f8f_row3_col5\" class=\"data row3 col5\" >0.7266</td>\n",
              "      <td id=\"T_42f8f_row3_col6\" class=\"data row3 col6\" >0.5874</td>\n",
              "      <td id=\"T_42f8f_row3_col7\" class=\"data row3 col7\" >0.5890</td>\n",
              "      <td id=\"T_42f8f_row3_col8\" class=\"data row3 col8\" >2.7130</td>\n",
              "    </tr>\n",
              "    <tr>\n",
              "      <th id=\"T_42f8f_level0_row4\" class=\"row_heading level0 row4\" >gbc</th>\n",
              "      <td id=\"T_42f8f_row4_col0\" class=\"data row4 col0\" >Gradient Boosting Classifier</td>\n",
              "      <td id=\"T_42f8f_row4_col1\" class=\"data row4 col1\" >0.7334</td>\n",
              "      <td id=\"T_42f8f_row4_col2\" class=\"data row4 col2\" >0.0000</td>\n",
              "      <td id=\"T_42f8f_row4_col3\" class=\"data row4 col3\" >0.7334</td>\n",
              "      <td id=\"T_42f8f_row4_col4\" class=\"data row4 col4\" >0.7119</td>\n",
              "      <td id=\"T_42f8f_row4_col5\" class=\"data row4 col5\" >0.7203</td>\n",
              "      <td id=\"T_42f8f_row4_col6\" class=\"data row4 col6\" >0.5777</td>\n",
              "      <td id=\"T_42f8f_row4_col7\" class=\"data row4 col7\" >0.5800</td>\n",
              "      <td id=\"T_42f8f_row4_col8\" class=\"data row4 col8\" >41.3160</td>\n",
              "    </tr>\n",
              "    <tr>\n",
              "      <th id=\"T_42f8f_level0_row5\" class=\"row_heading level0 row5\" >ada</th>\n",
              "      <td id=\"T_42f8f_row5_col0\" class=\"data row5 col0\" >Ada Boost Classifier</td>\n",
              "      <td id=\"T_42f8f_row5_col1\" class=\"data row5 col1\" >0.7134</td>\n",
              "      <td id=\"T_42f8f_row5_col2\" class=\"data row5 col2\" >0.0000</td>\n",
              "      <td id=\"T_42f8f_row5_col3\" class=\"data row5 col3\" >0.7134</td>\n",
              "      <td id=\"T_42f8f_row5_col4\" class=\"data row5 col4\" >0.6937</td>\n",
              "      <td id=\"T_42f8f_row5_col5\" class=\"data row5 col5\" >0.6992</td>\n",
              "      <td id=\"T_42f8f_row5_col6\" class=\"data row5 col6\" >0.5440</td>\n",
              "      <td id=\"T_42f8f_row5_col7\" class=\"data row5 col7\" >0.5493</td>\n",
              "      <td id=\"T_42f8f_row5_col8\" class=\"data row5 col8\" >2.7970</td>\n",
              "    </tr>\n",
              "    <tr>\n",
              "      <th id=\"T_42f8f_level0_row6\" class=\"row_heading level0 row6\" >lr</th>\n",
              "      <td id=\"T_42f8f_row6_col0\" class=\"data row6 col0\" >Logistic Regression</td>\n",
              "      <td id=\"T_42f8f_row6_col1\" class=\"data row6 col1\" >0.7104</td>\n",
              "      <td id=\"T_42f8f_row6_col2\" class=\"data row6 col2\" >0.0000</td>\n",
              "      <td id=\"T_42f8f_row6_col3\" class=\"data row6 col3\" >0.7104</td>\n",
              "      <td id=\"T_42f8f_row6_col4\" class=\"data row6 col4\" >0.6893</td>\n",
              "      <td id=\"T_42f8f_row6_col5\" class=\"data row6 col5\" >0.6985</td>\n",
              "      <td id=\"T_42f8f_row6_col6\" class=\"data row6 col6\" >0.5436</td>\n",
              "      <td id=\"T_42f8f_row6_col7\" class=\"data row6 col7\" >0.5455</td>\n",
              "      <td id=\"T_42f8f_row6_col8\" class=\"data row6 col8\" >1.0600</td>\n",
              "    </tr>\n",
              "    <tr>\n",
              "      <th id=\"T_42f8f_level0_row7\" class=\"row_heading level0 row7\" >svm</th>\n",
              "      <td id=\"T_42f8f_row7_col0\" class=\"data row7 col0\" >SVM - Linear Kernel</td>\n",
              "      <td id=\"T_42f8f_row7_col1\" class=\"data row7 col1\" >0.7038</td>\n",
              "      <td id=\"T_42f8f_row7_col2\" class=\"data row7 col2\" >0.0000</td>\n",
              "      <td id=\"T_42f8f_row7_col3\" class=\"data row7 col3\" >0.7038</td>\n",
              "      <td id=\"T_42f8f_row7_col4\" class=\"data row7 col4\" >0.6846</td>\n",
              "      <td id=\"T_42f8f_row7_col5\" class=\"data row7 col5\" >0.6891</td>\n",
              "      <td id=\"T_42f8f_row7_col6\" class=\"data row7 col6\" >0.5279</td>\n",
              "      <td id=\"T_42f8f_row7_col7\" class=\"data row7 col7\" >0.5335</td>\n",
              "      <td id=\"T_42f8f_row7_col8\" class=\"data row7 col8\" >0.6880</td>\n",
              "    </tr>\n",
              "    <tr>\n",
              "      <th id=\"T_42f8f_level0_row8\" class=\"row_heading level0 row8\" >lda</th>\n",
              "      <td id=\"T_42f8f_row8_col0\" class=\"data row8 col0\" >Linear Discriminant Analysis</td>\n",
              "      <td id=\"T_42f8f_row8_col1\" class=\"data row8 col1\" >0.6987</td>\n",
              "      <td id=\"T_42f8f_row8_col2\" class=\"data row8 col2\" >0.0000</td>\n",
              "      <td id=\"T_42f8f_row8_col3\" class=\"data row8 col3\" >0.6987</td>\n",
              "      <td id=\"T_42f8f_row8_col4\" class=\"data row8 col4\" >0.6750</td>\n",
              "      <td id=\"T_42f8f_row8_col5\" class=\"data row8 col5\" >0.6792</td>\n",
              "      <td id=\"T_42f8f_row8_col6\" class=\"data row8 col6\" >0.5137</td>\n",
              "      <td id=\"T_42f8f_row8_col7\" class=\"data row8 col7\" >0.5210</td>\n",
              "      <td id=\"T_42f8f_row8_col8\" class=\"data row8 col8\" >0.3620</td>\n",
              "    </tr>\n",
              "    <tr>\n",
              "      <th id=\"T_42f8f_level0_row9\" class=\"row_heading level0 row9\" >knn</th>\n",
              "      <td id=\"T_42f8f_row9_col0\" class=\"data row9 col0\" >K Neighbors Classifier</td>\n",
              "      <td id=\"T_42f8f_row9_col1\" class=\"data row9 col1\" >0.6965</td>\n",
              "      <td id=\"T_42f8f_row9_col2\" class=\"data row9 col2\" >0.8414</td>\n",
              "      <td id=\"T_42f8f_row9_col3\" class=\"data row9 col3\" >0.6965</td>\n",
              "      <td id=\"T_42f8f_row9_col4\" class=\"data row9 col4\" >0.6819</td>\n",
              "      <td id=\"T_42f8f_row9_col5\" class=\"data row9 col5\" >0.6863</td>\n",
              "      <td id=\"T_42f8f_row9_col6\" class=\"data row9 col6\" >0.5194</td>\n",
              "      <td id=\"T_42f8f_row9_col7\" class=\"data row9 col7\" >0.5217</td>\n",
              "      <td id=\"T_42f8f_row9_col8\" class=\"data row9 col8\" >1.7130</td>\n",
              "    </tr>\n",
              "    <tr>\n",
              "      <th id=\"T_42f8f_level0_row10\" class=\"row_heading level0 row10\" >ridge</th>\n",
              "      <td id=\"T_42f8f_row10_col0\" class=\"data row10 col0\" >Ridge Classifier</td>\n",
              "      <td id=\"T_42f8f_row10_col1\" class=\"data row10 col1\" >0.6784</td>\n",
              "      <td id=\"T_42f8f_row10_col2\" class=\"data row10 col2\" >0.0000</td>\n",
              "      <td id=\"T_42f8f_row10_col3\" class=\"data row10 col3\" >0.6784</td>\n",
              "      <td id=\"T_42f8f_row10_col4\" class=\"data row10 col4\" >0.6643</td>\n",
              "      <td id=\"T_42f8f_row10_col5\" class=\"data row10 col5\" >0.6389</td>\n",
              "      <td id=\"T_42f8f_row10_col6\" class=\"data row10 col6\" >0.4685</td>\n",
              "      <td id=\"T_42f8f_row10_col7\" class=\"data row10 col7\" >0.4849</td>\n",
              "      <td id=\"T_42f8f_row10_col8\" class=\"data row10 col8\" >0.3480</td>\n",
              "    </tr>\n",
              "    <tr>\n",
              "      <th id=\"T_42f8f_level0_row11\" class=\"row_heading level0 row11\" >qda</th>\n",
              "      <td id=\"T_42f8f_row11_col0\" class=\"data row11 col0\" >Quadratic Discriminant Analysis</td>\n",
              "      <td id=\"T_42f8f_row11_col1\" class=\"data row11 col1\" >0.6532</td>\n",
              "      <td id=\"T_42f8f_row11_col2\" class=\"data row11 col2\" >0.0000</td>\n",
              "      <td id=\"T_42f8f_row11_col3\" class=\"data row11 col3\" >0.6532</td>\n",
              "      <td id=\"T_42f8f_row11_col4\" class=\"data row11 col4\" >0.6668</td>\n",
              "      <td id=\"T_42f8f_row11_col5\" class=\"data row11 col5\" >0.6456</td>\n",
              "      <td id=\"T_42f8f_row11_col6\" class=\"data row11 col6\" >0.4687</td>\n",
              "      <td id=\"T_42f8f_row11_col7\" class=\"data row11 col7\" >0.4774</td>\n",
              "      <td id=\"T_42f8f_row11_col8\" class=\"data row11 col8\" >0.4140</td>\n",
              "    </tr>\n",
              "    <tr>\n",
              "      <th id=\"T_42f8f_level0_row12\" class=\"row_heading level0 row12\" >dt</th>\n",
              "      <td id=\"T_42f8f_row12_col0\" class=\"data row12 col0\" >Decision Tree Classifier</td>\n",
              "      <td id=\"T_42f8f_row12_col1\" class=\"data row12 col1\" >0.6517</td>\n",
              "      <td id=\"T_42f8f_row12_col2\" class=\"data row12 col2\" >0.7360</td>\n",
              "      <td id=\"T_42f8f_row12_col3\" class=\"data row12 col3\" >0.6517</td>\n",
              "      <td id=\"T_42f8f_row12_col4\" class=\"data row12 col4\" >0.6539</td>\n",
              "      <td id=\"T_42f8f_row12_col5\" class=\"data row12 col5\" >0.6527</td>\n",
              "      <td id=\"T_42f8f_row12_col6\" class=\"data row12 col6\" >0.4644</td>\n",
              "      <td id=\"T_42f8f_row12_col7\" class=\"data row12 col7\" >0.4645</td>\n",
              "      <td id=\"T_42f8f_row12_col8\" class=\"data row12 col8\" >0.8580</td>\n",
              "    </tr>\n",
              "    <tr>\n",
              "      <th id=\"T_42f8f_level0_row13\" class=\"row_heading level0 row13\" >nb</th>\n",
              "      <td id=\"T_42f8f_row13_col0\" class=\"data row13 col0\" >Naive Bayes</td>\n",
              "      <td id=\"T_42f8f_row13_col1\" class=\"data row13 col1\" >0.6108</td>\n",
              "      <td id=\"T_42f8f_row13_col2\" class=\"data row13 col2\" >0.8155</td>\n",
              "      <td id=\"T_42f8f_row13_col3\" class=\"data row13 col3\" >0.6108</td>\n",
              "      <td id=\"T_42f8f_row13_col4\" class=\"data row13 col4\" >0.6484</td>\n",
              "      <td id=\"T_42f8f_row13_col5\" class=\"data row13 col5\" >0.6112</td>\n",
              "      <td id=\"T_42f8f_row13_col6\" class=\"data row13 col6\" >0.4242</td>\n",
              "      <td id=\"T_42f8f_row13_col7\" class=\"data row13 col7\" >0.4387</td>\n",
              "      <td id=\"T_42f8f_row13_col8\" class=\"data row13 col8\" >0.8100</td>\n",
              "    </tr>\n",
              "    <tr>\n",
              "      <th id=\"T_42f8f_level0_row14\" class=\"row_heading level0 row14\" >dummy</th>\n",
              "      <td id=\"T_42f8f_row14_col0\" class=\"data row14 col0\" >Dummy Classifier</td>\n",
              "      <td id=\"T_42f8f_row14_col1\" class=\"data row14 col1\" >0.4416</td>\n",
              "      <td id=\"T_42f8f_row14_col2\" class=\"data row14 col2\" >0.5000</td>\n",
              "      <td id=\"T_42f8f_row14_col3\" class=\"data row14 col3\" >0.4416</td>\n",
              "      <td id=\"T_42f8f_row14_col4\" class=\"data row14 col4\" >0.1950</td>\n",
              "      <td id=\"T_42f8f_row14_col5\" class=\"data row14 col5\" >0.2706</td>\n",
              "      <td id=\"T_42f8f_row14_col6\" class=\"data row14 col6\" >0.0000</td>\n",
              "      <td id=\"T_42f8f_row14_col7\" class=\"data row14 col7\" >0.0000</td>\n",
              "      <td id=\"T_42f8f_row14_col8\" class=\"data row14 col8\" >0.2750</td>\n",
              "    </tr>\n",
              "  </tbody>\n",
              "</table>\n"
            ],
            "text/plain": [
              "<pandas.io.formats.style.Styler at 0x7fba5d8a3910>"
            ]
          },
          "metadata": {},
          "output_type": "display_data"
        },
        {
          "data": {
            "application/vnd.jupyter.widget-view+json": {
              "model_id": "fdce4389553740e9a31a5c4da13d8e68",
              "version_major": 2,
              "version_minor": 0
            },
            "text/plain": [
              "Processing:   0%|          | 0/69 [00:00<?, ?it/s]"
            ]
          },
          "metadata": {
            "application/vnd.jupyter.widget-view+json": {
              "colab": {
                "custom_widget_manager": {
                  "url": "https://ssl.gstatic.com/colaboratory-static/widgets/colab-cdn-widget-manager/2b70e893a8ba7c0f/manager.min.js"
                }
              }
            }
          },
          "output_type": "display_data"
        },
        {
          "data": {
            "text/html": [],
            "text/plain": [
              "<IPython.core.display.HTML object>"
            ]
          },
          "metadata": {},
          "output_type": "display_data"
        },
        {
          "data": {
            "text/html": [],
            "text/plain": [
              "<IPython.core.display.HTML object>"
            ]
          },
          "metadata": {},
          "output_type": "display_data"
        }
      ],
      "source": [
        "from pycaret.classification import setup, compare_models, tune_model, finalize_model, predict_model, save_model\n",
        "import pandas as pd\n",
        "\n",
        "# Step 1: Load the dataset\n",
        "data_file_path = 'londondataset.csv'  # Adjust the path to your dataset\n",
        "london_data = pd.read_csv(data_file_path)\n",
        "\n",
        "# Step 2: Define the relevant features and target\n",
        "target_column = 'travel_mode'\n",
        "features = [\n",
        "    'age', 'female', 'driving_license', 'car_ownership', 'distance',\n",
        "    'dur_walking', 'dur_cycling', 'dur_pt_total', 'dur_driving',\n",
        "    'cost_transit', 'cost_driving_total', 'driving_traffic_percent'\n",
        "]\n",
        "\n",
        "# Filter the dataset\n",
        "london_data_filtered = london_data[features + [target_column]].dropna()\n",
        "\n",
        "# Step 3: Initialize PyCaret setup\n",
        "clf_setup = setup(\n",
        "    data=london_data_filtered,\n",
        "    target=target_column,\n",
        "    session_id=123,\n",
        "    normalize=True,  # Normalize the data for better performance\n",
        "    remove_multicollinearity=True,  # Remove highly correlated features\n",
        "    use_gpu=True  # Use GPU for faster processing if available\n",
        ")\n",
        "\n",
        "# Step 4: Compare and select the best model\n",
        "best_model = compare_models()\n",
        "\n",
        "\n"
      ]
    },
    {
      "cell_type": "code",
      "execution_count": null,
      "metadata": {
        "colab": {
          "background_save": true,
          "base_uri": "https://localhost:8080/",
          "height": 189,
          "referenced_widgets": [
            "c9802e9bdb3c4fc7a6c610b1dda7954b",
            "00bd7f7594ae4d1f884ada429ef009c9",
            "6a91300b338b41b293d3a533529d885d",
            "71dcc52db17f4d8dab303bf1970f2fb6",
            "1597887ec2974ef7be361ebfa0b8c531",
            "2c0bccf435d4469183cd32586876a2df",
            "266e7d4c6ee44d34b0b32b12a23b2c96",
            "40987fe6d8914db9a2e28067bd347167",
            "1849dd150a8a4b2bbedeb529e8d08f40",
            "44af44d2c7fb4dd6bc127358fd9c069d",
            "8cc3b6aac48c444c959643c7a34ac2eb"
          ]
        },
        "id": "GmX0QQjzh7Ho",
        "outputId": "9471419a-3557-48e4-a402-14bf111e0c54"
      },
      "outputs": [
        {
          "data": {
            "text/html": [],
            "text/plain": [
              "<IPython.core.display.HTML object>"
            ]
          },
          "metadata": {},
          "output_type": "display_data"
        },
        {
          "data": {
            "text/html": [
              "<style type=\"text/css\">\n",
              "#T_106d9_row10_col0, #T_106d9_row10_col1, #T_106d9_row10_col2, #T_106d9_row10_col3, #T_106d9_row10_col4, #T_106d9_row10_col5, #T_106d9_row10_col6 {\n",
              "  background: yellow;\n",
              "}\n",
              "</style>\n",
              "<table id=\"T_106d9\" class=\"dataframe\">\n",
              "  <thead>\n",
              "    <tr>\n",
              "      <th class=\"blank level0\" >&nbsp;</th>\n",
              "      <th id=\"T_106d9_level0_col0\" class=\"col_heading level0 col0\" >Accuracy</th>\n",
              "      <th id=\"T_106d9_level0_col1\" class=\"col_heading level0 col1\" >AUC</th>\n",
              "      <th id=\"T_106d9_level0_col2\" class=\"col_heading level0 col2\" >Recall</th>\n",
              "      <th id=\"T_106d9_level0_col3\" class=\"col_heading level0 col3\" >Prec.</th>\n",
              "      <th id=\"T_106d9_level0_col4\" class=\"col_heading level0 col4\" >F1</th>\n",
              "      <th id=\"T_106d9_level0_col5\" class=\"col_heading level0 col5\" >Kappa</th>\n",
              "      <th id=\"T_106d9_level0_col6\" class=\"col_heading level0 col6\" >MCC</th>\n",
              "    </tr>\n",
              "    <tr>\n",
              "      <th class=\"index_name level0\" >Fold</th>\n",
              "      <th class=\"blank col0\" >&nbsp;</th>\n",
              "      <th class=\"blank col1\" >&nbsp;</th>\n",
              "      <th class=\"blank col2\" >&nbsp;</th>\n",
              "      <th class=\"blank col3\" >&nbsp;</th>\n",
              "      <th class=\"blank col4\" >&nbsp;</th>\n",
              "      <th class=\"blank col5\" >&nbsp;</th>\n",
              "      <th class=\"blank col6\" >&nbsp;</th>\n",
              "    </tr>\n",
              "  </thead>\n",
              "  <tbody>\n",
              "    <tr>\n",
              "      <th id=\"T_106d9_level0_row0\" class=\"row_heading level0 row0\" >0</th>\n",
              "      <td id=\"T_106d9_row0_col0\" class=\"data row0 col0\" >0.6905</td>\n",
              "      <td id=\"T_106d9_row0_col1\" class=\"data row0 col1\" >0.8467</td>\n",
              "      <td id=\"T_106d9_row0_col2\" class=\"data row0 col2\" >0.6905</td>\n",
              "      <td id=\"T_106d9_row0_col3\" class=\"data row0 col3\" >0.6698</td>\n",
              "      <td id=\"T_106d9_row0_col4\" class=\"data row0 col4\" >0.6734</td>\n",
              "      <td id=\"T_106d9_row0_col5\" class=\"data row0 col5\" >0.5028</td>\n",
              "      <td id=\"T_106d9_row0_col6\" class=\"data row0 col6\" >0.5074</td>\n",
              "    </tr>\n",
              "    <tr>\n",
              "      <th id=\"T_106d9_level0_row1\" class=\"row_heading level0 row1\" >1</th>\n",
              "      <td id=\"T_106d9_row1_col0\" class=\"data row1 col0\" >0.6959</td>\n",
              "      <td id=\"T_106d9_row1_col1\" class=\"data row1 col1\" >0.8511</td>\n",
              "      <td id=\"T_106d9_row1_col2\" class=\"data row1 col2\" >0.6959</td>\n",
              "      <td id=\"T_106d9_row1_col3\" class=\"data row1 col3\" >0.6733</td>\n",
              "      <td id=\"T_106d9_row1_col4\" class=\"data row1 col4\" >0.6811</td>\n",
              "      <td id=\"T_106d9_row1_col5\" class=\"data row1 col5\" >0.5143</td>\n",
              "      <td id=\"T_106d9_row1_col6\" class=\"data row1 col6\" >0.5174</td>\n",
              "    </tr>\n",
              "    <tr>\n",
              "      <th id=\"T_106d9_level0_row2\" class=\"row_heading level0 row2\" >2</th>\n",
              "      <td id=\"T_106d9_row2_col0\" class=\"data row2 col0\" >0.7056</td>\n",
              "      <td id=\"T_106d9_row2_col1\" class=\"data row2 col1\" >0.8580</td>\n",
              "      <td id=\"T_106d9_row2_col2\" class=\"data row2 col2\" >0.7056</td>\n",
              "      <td id=\"T_106d9_row2_col3\" class=\"data row2 col3\" >0.6817</td>\n",
              "      <td id=\"T_106d9_row2_col4\" class=\"data row2 col4\" >0.6907</td>\n",
              "      <td id=\"T_106d9_row2_col5\" class=\"data row2 col5\" >0.5305</td>\n",
              "      <td id=\"T_106d9_row2_col6\" class=\"data row2 col6\" >0.5334</td>\n",
              "    </tr>\n",
              "    <tr>\n",
              "      <th id=\"T_106d9_level0_row3\" class=\"row_heading level0 row3\" >3</th>\n",
              "      <td id=\"T_106d9_row3_col0\" class=\"data row3 col0\" >0.6986</td>\n",
              "      <td id=\"T_106d9_row3_col1\" class=\"data row3 col1\" >0.8491</td>\n",
              "      <td id=\"T_106d9_row3_col2\" class=\"data row3 col2\" >0.6986</td>\n",
              "      <td id=\"T_106d9_row3_col3\" class=\"data row3 col3\" >0.6754</td>\n",
              "      <td id=\"T_106d9_row3_col4\" class=\"data row3 col4\" >0.6830</td>\n",
              "      <td id=\"T_106d9_row3_col5\" class=\"data row3 col5\" >0.5182</td>\n",
              "      <td id=\"T_106d9_row3_col6\" class=\"data row3 col6\" >0.5215</td>\n",
              "    </tr>\n",
              "    <tr>\n",
              "      <th id=\"T_106d9_level0_row4\" class=\"row_heading level0 row4\" >4</th>\n",
              "      <td id=\"T_106d9_row4_col0\" class=\"data row4 col0\" >0.6908</td>\n",
              "      <td id=\"T_106d9_row4_col1\" class=\"data row4 col1\" >0.8450</td>\n",
              "      <td id=\"T_106d9_row4_col2\" class=\"data row4 col2\" >0.6908</td>\n",
              "      <td id=\"T_106d9_row4_col3\" class=\"data row4 col3\" >0.6695</td>\n",
              "      <td id=\"T_106d9_row4_col4\" class=\"data row4 col4\" >0.6760</td>\n",
              "      <td id=\"T_106d9_row4_col5\" class=\"data row4 col5\" >0.5055</td>\n",
              "      <td id=\"T_106d9_row4_col6\" class=\"data row4 col6\" >0.5089</td>\n",
              "    </tr>\n",
              "    <tr>\n",
              "      <th id=\"T_106d9_level0_row5\" class=\"row_heading level0 row5\" >5</th>\n",
              "      <td id=\"T_106d9_row5_col0\" class=\"data row5 col0\" >0.7031</td>\n",
              "      <td id=\"T_106d9_row5_col1\" class=\"data row5 col1\" >0.8590</td>\n",
              "      <td id=\"T_106d9_row5_col2\" class=\"data row5 col2\" >0.7031</td>\n",
              "      <td id=\"T_106d9_row5_col3\" class=\"data row5 col3\" >0.6796</td>\n",
              "      <td id=\"T_106d9_row5_col4\" class=\"data row5 col4\" >0.6861</td>\n",
              "      <td id=\"T_106d9_row5_col5\" class=\"data row5 col5\" >0.5240</td>\n",
              "      <td id=\"T_106d9_row5_col6\" class=\"data row5 col6\" >0.5281</td>\n",
              "    </tr>\n",
              "    <tr>\n",
              "      <th id=\"T_106d9_level0_row6\" class=\"row_heading level0 row6\" >6</th>\n",
              "      <td id=\"T_106d9_row6_col0\" class=\"data row6 col0\" >0.7081</td>\n",
              "      <td id=\"T_106d9_row6_col1\" class=\"data row6 col1\" >0.8568</td>\n",
              "      <td id=\"T_106d9_row6_col2\" class=\"data row6 col2\" >0.7081</td>\n",
              "      <td id=\"T_106d9_row6_col3\" class=\"data row6 col3\" >0.6841</td>\n",
              "      <td id=\"T_106d9_row6_col4\" class=\"data row6 col4\" >0.6924</td>\n",
              "      <td id=\"T_106d9_row6_col5\" class=\"data row6 col5\" >0.5334</td>\n",
              "      <td id=\"T_106d9_row6_col6\" class=\"data row6 col6\" >0.5368</td>\n",
              "    </tr>\n",
              "    <tr>\n",
              "      <th id=\"T_106d9_level0_row7\" class=\"row_heading level0 row7\" >7</th>\n",
              "      <td id=\"T_106d9_row7_col0\" class=\"data row7 col0\" >0.6966</td>\n",
              "      <td id=\"T_106d9_row7_col1\" class=\"data row7 col1\" >0.8523</td>\n",
              "      <td id=\"T_106d9_row7_col2\" class=\"data row7 col2\" >0.6966</td>\n",
              "      <td id=\"T_106d9_row7_col3\" class=\"data row7 col3\" >0.6745</td>\n",
              "      <td id=\"T_106d9_row7_col4\" class=\"data row7 col4\" >0.6806</td>\n",
              "      <td id=\"T_106d9_row7_col5\" class=\"data row7 col5\" >0.5132</td>\n",
              "      <td id=\"T_106d9_row7_col6\" class=\"data row7 col6\" >0.5178</td>\n",
              "    </tr>\n",
              "    <tr>\n",
              "      <th id=\"T_106d9_level0_row8\" class=\"row_heading level0 row8\" >8</th>\n",
              "      <td id=\"T_106d9_row8_col0\" class=\"data row8 col0\" >0.6977</td>\n",
              "      <td id=\"T_106d9_row8_col1\" class=\"data row8 col1\" >0.8483</td>\n",
              "      <td id=\"T_106d9_row8_col2\" class=\"data row8 col2\" >0.6977</td>\n",
              "      <td id=\"T_106d9_row8_col3\" class=\"data row8 col3\" >0.6776</td>\n",
              "      <td id=\"T_106d9_row8_col4\" class=\"data row8 col4\" >0.6820</td>\n",
              "      <td id=\"T_106d9_row8_col5\" class=\"data row8 col5\" >0.5145</td>\n",
              "      <td id=\"T_106d9_row8_col6\" class=\"data row8 col6\" >0.5192</td>\n",
              "    </tr>\n",
              "    <tr>\n",
              "      <th id=\"T_106d9_level0_row9\" class=\"row_heading level0 row9\" >9</th>\n",
              "      <td id=\"T_106d9_row9_col0\" class=\"data row9 col0\" >0.7000</td>\n",
              "      <td id=\"T_106d9_row9_col1\" class=\"data row9 col1\" >0.8519</td>\n",
              "      <td id=\"T_106d9_row9_col2\" class=\"data row9 col2\" >0.7000</td>\n",
              "      <td id=\"T_106d9_row9_col3\" class=\"data row9 col3\" >0.6763</td>\n",
              "      <td id=\"T_106d9_row9_col4\" class=\"data row9 col4\" >0.6862</td>\n",
              "      <td id=\"T_106d9_row9_col5\" class=\"data row9 col5\" >0.5235</td>\n",
              "      <td id=\"T_106d9_row9_col6\" class=\"data row9 col6\" >0.5255</td>\n",
              "    </tr>\n",
              "    <tr>\n",
              "      <th id=\"T_106d9_level0_row10\" class=\"row_heading level0 row10\" >Mean</th>\n",
              "      <td id=\"T_106d9_row10_col0\" class=\"data row10 col0\" >0.6987</td>\n",
              "      <td id=\"T_106d9_row10_col1\" class=\"data row10 col1\" >0.8518</td>\n",
              "      <td id=\"T_106d9_row10_col2\" class=\"data row10 col2\" >0.6987</td>\n",
              "      <td id=\"T_106d9_row10_col3\" class=\"data row10 col3\" >0.6762</td>\n",
              "      <td id=\"T_106d9_row10_col4\" class=\"data row10 col4\" >0.6832</td>\n",
              "      <td id=\"T_106d9_row10_col5\" class=\"data row10 col5\" >0.5180</td>\n",
              "      <td id=\"T_106d9_row10_col6\" class=\"data row10 col6\" >0.5216</td>\n",
              "    </tr>\n",
              "    <tr>\n",
              "      <th id=\"T_106d9_level0_row11\" class=\"row_heading level0 row11\" >Std</th>\n",
              "      <td id=\"T_106d9_row11_col0\" class=\"data row11 col0\" >0.0055</td>\n",
              "      <td id=\"T_106d9_row11_col1\" class=\"data row11 col1\" >0.0045</td>\n",
              "      <td id=\"T_106d9_row11_col2\" class=\"data row11 col2\" >0.0055</td>\n",
              "      <td id=\"T_106d9_row11_col3\" class=\"data row11 col3\" >0.0045</td>\n",
              "      <td id=\"T_106d9_row11_col4\" class=\"data row11 col4\" >0.0057</td>\n",
              "      <td id=\"T_106d9_row11_col5\" class=\"data row11 col5\" >0.0095</td>\n",
              "      <td id=\"T_106d9_row11_col6\" class=\"data row11 col6\" >0.0091</td>\n",
              "    </tr>\n",
              "  </tbody>\n",
              "</table>\n"
            ],
            "text/plain": [
              "<pandas.io.formats.style.Styler at 0x7fba5da8c7c0>"
            ]
          },
          "metadata": {},
          "output_type": "display_data"
        },
        {
          "data": {
            "application/vnd.jupyter.widget-view+json": {
              "model_id": "c9802e9bdb3c4fc7a6c610b1dda7954b",
              "version_major": 2,
              "version_minor": 0
            },
            "text/plain": [
              "Processing:   0%|          | 0/7 [00:00<?, ?it/s]"
            ]
          },
          "metadata": {
            "application/vnd.jupyter.widget-view+json": {
              "colab": {
                "custom_widget_manager": {
                  "url": "https://ssl.gstatic.com/colaboratory-static/widgets/colab-cdn-widget-manager/2b70e893a8ba7c0f/manager.min.js"
                }
              }
            }
          },
          "output_type": "display_data"
        },
        {
          "name": "stdout",
          "output_type": "stream",
          "text": [
            "Fitting 10 folds for each of 10 candidates, totalling 100 fits\n"
          ]
        },
        {
          "data": {
            "text/html": [],
            "text/plain": [
              "<IPython.core.display.HTML object>"
            ]
          },
          "metadata": {},
          "output_type": "display_data"
        },
        {
          "name": "stdout",
          "output_type": "stream",
          "text": [
            "Original model was better than the tuned model, hence it will be returned. NOTE: The display metrics are for the tuned model (not the original one).\n"
          ]
        }
      ],
      "source": [
        "# Step 5: Tune the best model for optimal performance\n",
        "tuned_model = tune_model(best_model)\n"
      ]
    },
    {
      "cell_type": "code",
      "execution_count": 14,
      "metadata": {
        "id": "J44cTOomfYLr"
      },
      "outputs": [],
      "source": [
        "# Step 6: Finalize the model\n",
        "final_model = finalize_model(tuned_model)\n",
        "\n"
      ]
    },
    {
      "cell_type": "code",
      "execution_count": 15,
      "metadata": {
        "id": "MI6CEDzlfaZo",
        "colab": {
          "base_uri": "https://localhost:8080/",
          "height": 81
        },
        "outputId": "a735de43-d5ca-4955-efc1-e804a1f1258a"
      },
      "outputs": [
        {
          "output_type": "display_data",
          "data": {
            "text/plain": [
              "<pandas.io.formats.style.Styler at 0x7fba450cf310>"
            ],
            "text/html": [
              "<style type=\"text/css\">\n",
              "</style>\n",
              "<table id=\"T_c764c\" class=\"dataframe\">\n",
              "  <thead>\n",
              "    <tr>\n",
              "      <th class=\"blank level0\" >&nbsp;</th>\n",
              "      <th id=\"T_c764c_level0_col0\" class=\"col_heading level0 col0\" >Model</th>\n",
              "      <th id=\"T_c764c_level0_col1\" class=\"col_heading level0 col1\" >Accuracy</th>\n",
              "      <th id=\"T_c764c_level0_col2\" class=\"col_heading level0 col2\" >AUC</th>\n",
              "      <th id=\"T_c764c_level0_col3\" class=\"col_heading level0 col3\" >Recall</th>\n",
              "      <th id=\"T_c764c_level0_col4\" class=\"col_heading level0 col4\" >Prec.</th>\n",
              "      <th id=\"T_c764c_level0_col5\" class=\"col_heading level0 col5\" >F1</th>\n",
              "      <th id=\"T_c764c_level0_col6\" class=\"col_heading level0 col6\" >Kappa</th>\n",
              "      <th id=\"T_c764c_level0_col7\" class=\"col_heading level0 col7\" >MCC</th>\n",
              "    </tr>\n",
              "  </thead>\n",
              "  <tbody>\n",
              "    <tr>\n",
              "      <th id=\"T_c764c_level0_row0\" class=\"row_heading level0 row0\" >0</th>\n",
              "      <td id=\"T_c764c_row0_col0\" class=\"data row0 col0\" >Random Forest Classifier</td>\n",
              "      <td id=\"T_c764c_row0_col1\" class=\"data row0 col1\" >0.9999</td>\n",
              "      <td id=\"T_c764c_row0_col2\" class=\"data row0 col2\" >1.0000</td>\n",
              "      <td id=\"T_c764c_row0_col3\" class=\"data row0 col3\" >0.9999</td>\n",
              "      <td id=\"T_c764c_row0_col4\" class=\"data row0 col4\" >0.9999</td>\n",
              "      <td id=\"T_c764c_row0_col5\" class=\"data row0 col5\" >0.9999</td>\n",
              "      <td id=\"T_c764c_row0_col6\" class=\"data row0 col6\" >0.9999</td>\n",
              "      <td id=\"T_c764c_row0_col7\" class=\"data row0 col7\" >0.9999</td>\n",
              "    </tr>\n",
              "  </tbody>\n",
              "</table>\n"
            ]
          },
          "metadata": {}
        }
      ],
      "source": [
        "# Step 7: Predict on the entire dataset\n",
        "predictions = predict_model(final_model, data=london_data_filtered)\n"
      ]
    },
    {
      "cell_type": "code",
      "execution_count": 16,
      "metadata": {
        "id": "roUt10njffDs",
        "colab": {
          "base_uri": "https://localhost:8080/"
        },
        "outputId": "82d62b69-9127-47fd-8ec4-daacb4c81720"
      },
      "outputs": [
        {
          "output_type": "stream",
          "name": "stdout",
          "text": [
            "Transformation Pipeline and Model Successfully Saved\n"
          ]
        }
      ],
      "source": [
        "\n",
        "# Step 8: Save the final model and predictions\n",
        "save_model(final_model, 'final_mode_choice_model')\n",
        "predictions.to_csv(\"mode_choice_predictions_pycaret.csv\", index=False)\n"
      ]
    },
    {
      "cell_type": "code",
      "execution_count": 17,
      "metadata": {
        "id": "HDFaOe5XfgZw",
        "colab": {
          "base_uri": "https://localhost:8080/"
        },
        "outputId": "921f5cb3-54ee-4e54-877e-fe569c1c81f3"
      },
      "outputs": [
        {
          "output_type": "stream",
          "name": "stdout",
          "text": [
            "\n",
            "Sample Predictions:\n",
            "    age  female  driving_license  car_ownership  distance  dur_walking  \\\n",
            "0   56       1                1              2       778     0.218056   \n",
            "1   56       1                1              2       778     0.188889   \n",
            "2   56       1                1              2      4562     1.037778   \n",
            "3   56       1                1              2      4562     1.039444   \n",
            "4   54       0                1              2      4562     1.037778   \n",
            "\n",
            "   dur_cycling  dur_pt_total  dur_driving  cost_transit  cost_driving_total  \\\n",
            "0     0.092222      0.149444     0.052222           1.5                0.14   \n",
            "1     0.061944      0.168056     0.059444           1.5                0.15   \n",
            "2     0.355833      0.412222     0.236667           1.5                0.79   \n",
            "3     0.384444      0.463611     0.233333           1.5                0.78   \n",
            "4     0.355833      0.391389     0.229167           1.5                0.78   \n",
            "\n",
            "   driving_traffic_percent travel_mode prediction_label  prediction_score  \n",
            "0                 0.111702       drive            drive              0.92  \n",
            "1                 0.112150       drive            drive              0.95  \n",
            "2                 0.203052       drive            drive              1.00  \n",
            "3                 0.160714       drive            drive              0.99  \n",
            "4                 0.130909       drive            drive              0.97  \n"
          ]
        }
      ],
      "source": [
        "\n",
        "# Display feature importance and predictions\n",
        "print(\"\\nSample Predictions:\\n\", predictions.head())"
      ]
    },
    {
      "cell_type": "code",
      "execution_count": 21,
      "metadata": {
        "id": "20S9p0Awc-Xp",
        "colab": {
          "base_uri": "https://localhost:8080/",
          "height": 483
        },
        "outputId": "c18e4593-6b1e-4784-e202-82108af25c28"
      },
      "outputs": [
        {
          "output_type": "display_data",
          "data": {
            "text/plain": [
              "<Figure size 800x500 with 1 Axes>"
            ],
            "image/png": "[encoded data removed]"
          },
          "metadata": {}
        }
      ],
      "source": [
        "import seaborn as sns\n",
        "import matplotlib.pyplot as plt\n",
        "\n",
        "# Count true and predicted modes\n",
        "true_counts = predictions['travel_mode'].value_counts()\n",
        "predicted_counts = predictions['prediction_label'].value_counts()\n",
        "\n",
        "# Plot\n",
        "df_counts = pd.DataFrame({'True': true_counts, 'Predicted': predicted_counts})\n",
        "df_counts.plot(kind='bar', figsize=(8, 5))\n",
        "plt.title(\"True vs Predicted Mode Distribution\")\n",
        "plt.ylabel(\"Count\")\n",
        "plt.show()\n"
      ]
    },
    {
      "cell_type": "code",
      "source": [
        "sns.histplot(predictions['prediction_score'], kde=True, bins=20)\n",
        "plt.title(\"Prediction Confidence Distribution\")\n",
        "plt.xlabel(\"Prediction Score\")\n",
        "plt.ylabel(\"Frequency\")\n",
        "plt.show()"
      ],
      "metadata": {
        "colab": {
          "base_uri": "https://localhost:8080/",
          "height": 524
        },
        "id": "StYjkWsOrB_o",
        "outputId": "0d4dca90-ceb5-4198-e894-ff38ba4a2e89"
      },
      "execution_count": 23,
      "outputs": [
        {
          "output_type": "display_data",
          "data": {
            "text/plain": [
              "<Figure size 800x550 with 1 Axes>"
            ],
            "image/png": "[encoded data removed]"
          },
          "metadata": {}
        }
      ]
    },
    {
      "cell_type": "code",
      "source": [
        "y_true = predictions['travel_mode']\n",
        "y_pred = predictions['prediction_label']\n"
      ],
      "metadata": {
        "id": "Ky_2DLWX3vL5"
      },
      "execution_count": 26,
      "outputs": []
    },
    {
      "cell_type": "code",
      "source": [
        "from sklearn.metrics import confusion_matrix\n",
        "cm = confusion_matrix(y_true, y_pred)  # Replace y_true and y_pred with your variables\n",
        "labels = predictions['travel_mode'].unique()  # Replace with actual class labels\n"
      ],
      "metadata": {
        "id": "iegnEgAz4YbY"
      },
      "execution_count": 29,
      "outputs": []
    },
    {
      "cell_type": "code",
      "source": [
        "# Create a heatmap with custom background colors\n",
        "plt.figure(figsize=(8, 6))\n",
        "sns.heatmap(cm, annot=True, fmt='d', cmap='Blues', cbar=False,\n",
        "            xticklabels=labels, yticklabels=labels)\n",
        "\n",
        "# Add titles and labels\n",
        "plt.title(\"Confusion Matrix with Custom Background\")\n",
        "plt.xlabel(\"Predicted Labels\")\n",
        "plt.ylabel(\"True Labels\")\n",
        "plt.show()\n"
      ],
      "metadata": {
        "colab": {
          "base_uri": "https://localhost:8080/",
          "height": 562
        },
        "id": "mb8-4mWy4kAH",
        "outputId": "27a2c400-c212-4ea2-808a-0f59f4cbd41c"
      },
      "execution_count": 32,
      "outputs": [
        {
          "output_type": "display_data",
          "data": {
            "text/plain": [
              "<Figure size 800x600 with 1 Axes>"
            ],
            "image/png": "[encoded data removed]"
          },
          "metadata": {}
        }
      ]
    }
  ],
  "metadata": {
    "colab": {
      "provenance": [],
      "authorship_tag": "ABX9TyMcexddNoumhWOlMFdz5d99",
      "include_colab_link": true
    },
    "kernelspec": {
      "display_name": "Python 3",
      "name": "python3"
    },
    "language_info": {
      "name": "python"
    },
    "widgets": {
      "application/vnd.jupyter.widget-state+json": {
        "00bd7f7594ae4d1f884ada429ef009c9": {
          "model_module": "@jupyter-widgets/controls",
          "model_module_version": "1.5.0",
          "model_name": "HTMLModel",
          "state": {
            "_dom_classes": [],
            "_model_module": "@jupyter-widgets/controls",
            "_model_module_version": "1.5.0",
            "_model_name": "HTMLModel",
            "_view_count": null,
            "_view_module": "@jupyter-widgets/controls",
            "_view_module_version": "1.5.0",
            "_view_name": "HTMLView",
            "description": "",
            "description_tooltip": null,
            "layout": "IPY_MODEL_2c0bccf435d4469183cd32586876a2df",
            "placeholder": "​",
            "style": "IPY_MODEL_266e7d4c6ee44d34b0b32b12a23b2c96",
            "value": "Processing:   0%"
          }
        },
        "1597887ec2974ef7be361ebfa0b8c531": {
          "model_module": "@jupyter-widgets/base",
          "model_module_version": "1.2.0",
          "model_name": "LayoutModel",
          "state": {
            "_model_module": "@jupyter-widgets/base",
            "_model_module_version": "1.2.0",
            "_model_name": "LayoutModel",
            "_view_count": null,
            "_view_module": "@jupyter-widgets/base",
            "_view_module_version": "1.2.0",
            "_view_name": "LayoutView",
            "align_content": null,
            "align_items": null,
            "align_self": null,
            "border": null,
            "bottom": null,
            "display": null,
            "flex": null,
            "flex_flow": null,
            "grid_area": null,
            "grid_auto_columns": null,
            "grid_auto_flow": null,
            "grid_auto_rows": null,
            "grid_column": null,
            "grid_gap": null,
            "grid_row": null,
            "grid_template_areas": null,
            "grid_template_columns": null,
            "grid_template_rows": null,
            "height": null,
            "justify_content": null,
            "justify_items": null,
            "left": null,
            "margin": null,
            "max_height": null,
            "max_width": null,
            "min_height": null,
            "min_width": null,
            "object_fit": null,
            "object_position": null,
            "order": null,
            "overflow": null,
            "overflow_x": null,
            "overflow_y": null,
            "padding": null,
            "right": null,
            "top": null,
            "visibility": null,
            "width": null
          }
        },
        "1849dd150a8a4b2bbedeb529e8d08f40": {
          "model_module": "@jupyter-widgets/controls",
          "model_module_version": "1.5.0",
          "model_name": "ProgressStyleModel",
          "state": {
            "_model_module": "@jupyter-widgets/controls",
            "_model_module_version": "1.5.0",
            "_model_name": "ProgressStyleModel",
            "_view_count": null,
            "_view_module": "@jupyter-widgets/base",
            "_view_module_version": "1.2.0",
            "_view_name": "StyleView",
            "bar_color": null,
            "description_width": ""
          }
        },
        "1acd6a569ee344f3b250110a00405fa1": {
          "model_module": "@jupyter-widgets/controls",
          "model_module_version": "1.5.0",
          "model_name": "FloatProgressModel",
          "state": {
            "_dom_classes": [],
            "_model_module": "@jupyter-widgets/controls",
            "_model_module_version": "1.5.0",
            "_model_name": "FloatProgressModel",
            "_view_count": null,
            "_view_module": "@jupyter-widgets/controls",
            "_view_module_version": "1.5.0",
            "_view_name": "ProgressView",
            "bar_style": "",
            "description": "",
            "description_tooltip": null,
            "layout": "IPY_MODEL_312ccd6782314c5f90a2c1d032a372d1",
            "max": 69,
            "min": 0,
            "orientation": "horizontal",
            "style": "IPY_MODEL_91a9919ca2de48c18ff44ddbe01046bc",
            "value": 69
          }
        },
        "266e7d4c6ee44d34b0b32b12a23b2c96": {
          "model_module": "@jupyter-widgets/controls",
          "model_module_version": "1.5.0",
          "model_name": "DescriptionStyleModel",
          "state": {
            "_model_module": "@jupyter-widgets/controls",
            "_model_module_version": "1.5.0",
            "_model_name": "DescriptionStyleModel",
            "_view_count": null,
            "_view_module": "@jupyter-widgets/base",
            "_view_module_version": "1.2.0",
            "_view_name": "StyleView",
            "description_width": ""
          }
        },
        "2a38f9044e7845108630b18b4c756af8": {
          "model_module": "@jupyter-widgets/base",
          "model_module_version": "1.2.0",
          "model_name": "LayoutModel",
          "state": {
            "_model_module": "@jupyter-widgets/base",
            "_model_module_version": "1.2.0",
            "_model_name": "LayoutModel",
            "_view_count": null,
            "_view_module": "@jupyter-widgets/base",
            "_view_module_version": "1.2.0",
            "_view_name": "LayoutView",
            "align_content": null,
            "align_items": null,
            "align_self": null,
            "border": null,
            "bottom": null,
            "display": null,
            "flex": null,
            "flex_flow": null,
            "grid_area": null,
            "grid_auto_columns": null,
            "grid_auto_flow": null,
            "grid_auto_rows": null,
            "grid_column": null,
            "grid_gap": null,
            "grid_row": null,
            "grid_template_areas": null,
            "grid_template_columns": null,
            "grid_template_rows": null,
            "height": null,
            "justify_content": null,
            "justify_items": null,
            "left": null,
            "margin": null,
            "max_height": null,
            "max_width": null,
            "min_height": null,
            "min_width": null,
            "object_fit": null,
            "object_position": null,
            "order": null,
            "overflow": null,
            "overflow_x": null,
            "overflow_y": null,
            "padding": null,
            "right": null,
            "top": null,
            "visibility": null,
            "width": null
          }
        },
        "2c0bccf435d4469183cd32586876a2df": {
          "model_module": "@jupyter-widgets/base",
          "model_module_version": "1.2.0",
          "model_name": "LayoutModel",
          "state": {
            "_model_module": "@jupyter-widgets/base",
            "_model_module_version": "1.2.0",
            "_model_name": "LayoutModel",
            "_view_count": null,
            "_view_module": "@jupyter-widgets/base",
            "_view_module_version": "1.2.0",
            "_view_name": "LayoutView",
            "align_content": null,
            "align_items": null,
            "align_self": null,
            "border": null,
            "bottom": null,
            "display": null,
            "flex": null,
            "flex_flow": null,
            "grid_area": null,
            "grid_auto_columns": null,
            "grid_auto_flow": null,
            "grid_auto_rows": null,
            "grid_column": null,
            "grid_gap": null,
            "grid_row": null,
            "grid_template_areas": null,
            "grid_template_columns": null,
            "grid_template_rows": null,
            "height": null,
            "justify_content": null,
            "justify_items": null,
            "left": null,
            "margin": null,
            "max_height": null,
            "max_width": null,
            "min_height": null,
            "min_width": null,
            "object_fit": null,
            "object_position": null,
            "order": null,
            "overflow": null,
            "overflow_x": null,
            "overflow_y": null,
            "padding": null,
            "right": null,
            "top": null,
            "visibility": null,
            "width": null
          }
        },
        "2efeada7f8b84b4e98c86c6cbf8df746": {
          "model_module": "@jupyter-widgets/controls",
          "model_module_version": "1.5.0",
          "model_name": "DescriptionStyleModel",
          "state": {
            "_model_module": "@jupyter-widgets/controls",
            "_model_module_version": "1.5.0",
            "_model_name": "DescriptionStyleModel",
            "_view_count": null,
            "_view_module": "@jupyter-widgets/base",
            "_view_module_version": "1.2.0",
            "_view_name": "StyleView",
            "description_width": ""
          }
        },
        "312ccd6782314c5f90a2c1d032a372d1": {
          "model_module": "@jupyter-widgets/base",
          "model_module_version": "1.2.0",
          "model_name": "LayoutModel",
          "state": {
            "_model_module": "@jupyter-widgets/base",
            "_model_module_version": "1.2.0",
            "_model_name": "LayoutModel",
            "_view_count": null,
            "_view_module": "@jupyter-widgets/base",
            "_view_module_version": "1.2.0",
            "_view_name": "LayoutView",
            "align_content": null,
            "align_items": null,
            "align_self": null,
            "border": null,
            "bottom": null,
            "display": null,
            "flex": null,
            "flex_flow": null,
            "grid_area": null,
            "grid_auto_columns": null,
            "grid_auto_flow": null,
            "grid_auto_rows": null,
            "grid_column": null,
            "grid_gap": null,
            "grid_row": null,
            "grid_template_areas": null,
            "grid_template_columns": null,
            "grid_template_rows": null,
            "height": null,
            "justify_content": null,
            "justify_items": null,
            "left": null,
            "margin": null,
            "max_height": null,
            "max_width": null,
            "min_height": null,
            "min_width": null,
            "object_fit": null,
            "object_position": null,
            "order": null,
            "overflow": null,
            "overflow_x": null,
            "overflow_y": null,
            "padding": null,
            "right": null,
            "top": null,
            "visibility": null,
            "width": null
          }
        },
        "40987fe6d8914db9a2e28067bd347167": {
          "model_module": "@jupyter-widgets/base",
          "model_module_version": "1.2.0",
          "model_name": "LayoutModel",
          "state": {
            "_model_module": "@jupyter-widgets/base",
            "_model_module_version": "1.2.0",
            "_model_name": "LayoutModel",
            "_view_count": null,
            "_view_module": "@jupyter-widgets/base",
            "_view_module_version": "1.2.0",
            "_view_name": "LayoutView",
            "align_content": null,
            "align_items": null,
            "align_self": null,
            "border": null,
            "bottom": null,
            "display": null,
            "flex": null,
            "flex_flow": null,
            "grid_area": null,
            "grid_auto_columns": null,
            "grid_auto_flow": null,
            "grid_auto_rows": null,
            "grid_column": null,
            "grid_gap": null,
            "grid_row": null,
            "grid_template_areas": null,
            "grid_template_columns": null,
            "grid_template_rows": null,
            "height": null,
            "justify_content": null,
            "justify_items": null,
            "left": null,
            "margin": null,
            "max_height": null,
            "max_width": null,
            "min_height": null,
            "min_width": null,
            "object_fit": null,
            "object_position": null,
            "order": null,
            "overflow": null,
            "overflow_x": null,
            "overflow_y": null,
            "padding": null,
            "right": null,
            "top": null,
            "visibility": null,
            "width": null
          }
        },
        "44af44d2c7fb4dd6bc127358fd9c069d": {
          "model_module": "@jupyter-widgets/base",
          "model_module_version": "1.2.0",
          "model_name": "LayoutModel",
          "state": {
            "_model_module": "@jupyter-widgets/base",
            "_model_module_version": "1.2.0",
            "_model_name": "LayoutModel",
            "_view_count": null,
            "_view_module": "@jupyter-widgets/base",
            "_view_module_version": "1.2.0",
            "_view_name": "LayoutView",
            "align_content": null,
            "align_items": null,
            "align_self": null,
            "border": null,
            "bottom": null,
            "display": null,
            "flex": null,
            "flex_flow": null,
            "grid_area": null,
            "grid_auto_columns": null,
            "grid_auto_flow": null,
            "grid_auto_rows": null,
            "grid_column": null,
            "grid_gap": null,
            "grid_row": null,
            "grid_template_areas": null,
            "grid_template_columns": null,
            "grid_template_rows": null,
            "height": null,
            "justify_content": null,
            "justify_items": null,
            "left": null,
            "margin": null,
            "max_height": null,
            "max_width": null,
            "min_height": null,
            "min_width": null,
            "object_fit": null,
            "object_position": null,
            "order": null,
            "overflow": null,
            "overflow_x": null,
            "overflow_y": null,
            "padding": null,
            "right": null,
            "top": null,
            "visibility": null,
            "width": null
          }
        },
        "6a91300b338b41b293d3a533529d885d": {
          "model_module": "@jupyter-widgets/controls",
          "model_module_version": "1.5.0",
          "model_name": "FloatProgressModel",
          "state": {
            "_dom_classes": [],
            "_model_module": "@jupyter-widgets/controls",
            "_model_module_version": "1.5.0",
            "_model_name": "FloatProgressModel",
            "_view_count": null,
            "_view_module": "@jupyter-widgets/controls",
            "_view_module_version": "1.5.0",
            "_view_name": "ProgressView",
            "bar_style": "",
            "description": "",
            "description_tooltip": null,
            "layout": "IPY_MODEL_40987fe6d8914db9a2e28067bd347167",
            "max": 7,
            "min": 0,
            "orientation": "horizontal",
            "style": "IPY_MODEL_1849dd150a8a4b2bbedeb529e8d08f40",
            "value": 0
          }
        },
        "6e9c261528fa46f8a09cbd6ca0dfa4dd": {
          "model_module": "@jupyter-widgets/controls",
          "model_module_version": "1.5.0",
          "model_name": "DescriptionStyleModel",
          "state": {
            "_model_module": "@jupyter-widgets/controls",
            "_model_module_version": "1.5.0",
            "_model_name": "DescriptionStyleModel",
            "_view_count": null,
            "_view_module": "@jupyter-widgets/base",
            "_view_module_version": "1.2.0",
            "_view_name": "StyleView",
            "description_width": ""
          }
        },
        "71dcc52db17f4d8dab303bf1970f2fb6": {
          "model_module": "@jupyter-widgets/controls",
          "model_module_version": "1.5.0",
          "model_name": "HTMLModel",
          "state": {
            "_dom_classes": [],
            "_model_module": "@jupyter-widgets/controls",
            "_model_module_version": "1.5.0",
            "_model_name": "HTMLModel",
            "_view_count": null,
            "_view_module": "@jupyter-widgets/controls",
            "_view_module_version": "1.5.0",
            "_view_name": "HTMLView",
            "description": "",
            "description_tooltip": null,
            "layout": "IPY_MODEL_44af44d2c7fb4dd6bc127358fd9c069d",
            "placeholder": "​",
            "style": "IPY_MODEL_8cc3b6aac48c444c959643c7a34ac2eb",
            "value": " 0/7 [00:00&lt;?, ?it/s]"
          }
        },
        "83064bd5edd5461e94b0b50ab198187c": {
          "model_module": "@jupyter-widgets/controls",
          "model_module_version": "1.5.0",
          "model_name": "HTMLModel",
          "state": {
            "_dom_classes": [],
            "_model_module": "@jupyter-widgets/controls",
            "_model_module_version": "1.5.0",
            "_model_name": "HTMLModel",
            "_view_count": null,
            "_view_module": "@jupyter-widgets/controls",
            "_view_module_version": "1.5.0",
            "_view_name": "HTMLView",
            "description": "",
            "description_tooltip": null,
            "layout": "IPY_MODEL_2a38f9044e7845108630b18b4c756af8",
            "placeholder": "​",
            "style": "IPY_MODEL_6e9c261528fa46f8a09cbd6ca0dfa4dd",
            "value": " 69/69 [12:48&lt;00:00,  3.82s/it]"
          }
        },
        "8a04867a91fc43708ade9c99d022dbe5": {
          "model_module": "@jupyter-widgets/base",
          "model_module_version": "1.2.0",
          "model_name": "LayoutModel",
          "state": {
            "_model_module": "@jupyter-widgets/base",
            "_model_module_version": "1.2.0",
            "_model_name": "LayoutModel",
            "_view_count": null,
            "_view_module": "@jupyter-widgets/base",
            "_view_module_version": "1.2.0",
            "_view_name": "LayoutView",
            "align_content": null,
            "align_items": null,
            "align_self": null,
            "border": null,
            "bottom": null,
            "display": null,
            "flex": null,
            "flex_flow": null,
            "grid_area": null,
            "grid_auto_columns": null,
            "grid_auto_flow": null,
            "grid_auto_rows": null,
            "grid_column": null,
            "grid_gap": null,
            "grid_row": null,
            "grid_template_areas": null,
            "grid_template_columns": null,
            "grid_template_rows": null,
            "height": null,
            "justify_content": null,
            "justify_items": null,
            "left": null,
            "margin": null,
            "max_height": null,
            "max_width": null,
            "min_height": null,
            "min_width": null,
            "object_fit": null,
            "object_position": null,
            "order": null,
            "overflow": null,
            "overflow_x": null,
            "overflow_y": null,
            "padding": null,
            "right": null,
            "top": null,
            "visibility": null,
            "width": null
          }
        },
        "8cc3b6aac48c444c959643c7a34ac2eb": {
          "model_module": "@jupyter-widgets/controls",
          "model_module_version": "1.5.0",
          "model_name": "DescriptionStyleModel",
          "state": {
            "_model_module": "@jupyter-widgets/controls",
            "_model_module_version": "1.5.0",
            "_model_name": "DescriptionStyleModel",
            "_view_count": null,
            "_view_module": "@jupyter-widgets/base",
            "_view_module_version": "1.2.0",
            "_view_name": "StyleView",
            "description_width": ""
          }
        },
        "91a9919ca2de48c18ff44ddbe01046bc": {
          "model_module": "@jupyter-widgets/controls",
          "model_module_version": "1.5.0",
          "model_name": "ProgressStyleModel",
          "state": {
            "_model_module": "@jupyter-widgets/controls",
            "_model_module_version": "1.5.0",
            "_model_name": "ProgressStyleModel",
            "_view_count": null,
            "_view_module": "@jupyter-widgets/base",
            "_view_module_version": "1.2.0",
            "_view_name": "StyleView",
            "bar_color": null,
            "description_width": ""
          }
        },
        "c9802e9bdb3c4fc7a6c610b1dda7954b": {
          "model_module": "@jupyter-widgets/controls",
          "model_module_version": "1.5.0",
          "model_name": "HBoxModel",
          "state": {
            "_dom_classes": [],
            "_model_module": "@jupyter-widgets/controls",
            "_model_module_version": "1.5.0",
            "_model_name": "HBoxModel",
            "_view_count": null,
            "_view_module": "@jupyter-widgets/controls",
            "_view_module_version": "1.5.0",
            "_view_name": "HBoxView",
            "box_style": "",
            "children": [
              "IPY_MODEL_00bd7f7594ae4d1f884ada429ef009c9",
              "IPY_MODEL_6a91300b338b41b293d3a533529d885d",
              "IPY_MODEL_71dcc52db17f4d8dab303bf1970f2fb6"
            ],
            "layout": "IPY_MODEL_1597887ec2974ef7be361ebfa0b8c531"
          }
        },
        "ce8290ac83f44457ad87ee56e11b4d6c": {
          "model_module": "@jupyter-widgets/base",
          "model_module_version": "1.2.0",
          "model_name": "LayoutModel",
          "state": {
            "_model_module": "@jupyter-widgets/base",
            "_model_module_version": "1.2.0",
            "_model_name": "LayoutModel",
            "_view_count": null,
            "_view_module": "@jupyter-widgets/base",
            "_view_module_version": "1.2.0",
            "_view_name": "LayoutView",
            "align_content": null,
            "align_items": null,
            "align_self": null,
            "border": null,
            "bottom": null,
            "display": null,
            "flex": null,
            "flex_flow": null,
            "grid_area": null,
            "grid_auto_columns": null,
            "grid_auto_flow": null,
            "grid_auto_rows": null,
            "grid_column": null,
            "grid_gap": null,
            "grid_row": null,
            "grid_template_areas": null,
            "grid_template_columns": null,
            "grid_template_rows": null,
            "height": null,
            "justify_content": null,
            "justify_items": null,
            "left": null,
            "margin": null,
            "max_height": null,
            "max_width": null,
            "min_height": null,
            "min_width": null,
            "object_fit": null,
            "object_position": null,
            "order": null,
            "overflow": null,
            "overflow_x": null,
            "overflow_y": null,
            "padding": null,
            "right": null,
            "top": null,
            "visibility": "hidden",
            "width": null
          }
        },
        "cf49db342d354170852f882cbf04ded1": {
          "model_module": "@jupyter-widgets/controls",
          "model_module_version": "1.5.0",
          "model_name": "HTMLModel",
          "state": {
            "_dom_classes": [],
            "_model_module": "@jupyter-widgets/controls",
            "_model_module_version": "1.5.0",
            "_model_name": "HTMLModel",
            "_view_count": null,
            "_view_module": "@jupyter-widgets/controls",
            "_view_module_version": "1.5.0",
            "_view_name": "HTMLView",
            "description": "",
            "description_tooltip": null,
            "layout": "IPY_MODEL_8a04867a91fc43708ade9c99d022dbe5",
            "placeholder": "​",
            "style": "IPY_MODEL_2efeada7f8b84b4e98c86c6cbf8df746",
            "value": "Processing: 100%"
          }
        },
        "fdce4389553740e9a31a5c4da13d8e68": {
          "model_module": "@jupyter-widgets/controls",
          "model_module_version": "1.5.0",
          "model_name": "HBoxModel",
          "state": {
            "_dom_classes": [],
            "_model_module": "@jupyter-widgets/controls",
            "_model_module_version": "1.5.0",
            "_model_name": "HBoxModel",
            "_view_count": null,
            "_view_module": "@jupyter-widgets/controls",
            "_view_module_version": "1.5.0",
            "_view_name": "HBoxView",
            "box_style": "",
            "children": [
              "IPY_MODEL_cf49db342d354170852f882cbf04ded1",
              "IPY_MODEL_1acd6a569ee344f3b250110a00405fa1",
              "IPY_MODEL_83064bd5edd5461e94b0b50ab198187c"
            ],
            "layout": "IPY_MODEL_ce8290ac83f44457ad87ee56e11b4d6c"
          }
        }
      }
    }
  },
  "nbformat": 4,
  "nbformat_minor": 0
}